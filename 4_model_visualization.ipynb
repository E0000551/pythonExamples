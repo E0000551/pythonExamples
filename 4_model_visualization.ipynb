{
 "cells": [
  {
   "cell_type": "code",
   "execution_count": 2,
   "id": "a66ed3ce-4e5c-4dbe-89a1-f53732084581",
   "metadata": {
    "tags": []
   },
   "outputs": [],
   "source": [
    "import pandas as pd\n",
    "from sklearn.tree import DecisionTreeClassifier\n",
    "from sklearn.model_selection import train_test_split\n",
    "from sklearn.metrics import accuracy_score\n",
    "from sklearn import tree\n",
    "\n",
    " \n",
    "songs_data = pd.read_csv('songs_clean.csv')\n",
    "\n",
    "feature_vector = songs_data.drop(columns=['artist'])\n",
    "feature_vector = feature_vector.values\n",
    "\n",
    "vector_target = songs_data['artist']\n",
    "\n",
    "x_train, x_test, y_train, y_test = train_test_split(feature_vector, vector_target, test_size=0.2)\n",
    "\n",
    "model = DecisionTreeClassifier()\n",
    "model.fit(x_train, y_train)\n",
    "\n",
    "predictions = model.predict(x_test)\n",
    "\n",
    "tree.export_graphviz( model,\n",
    "                    out_file=\"recomendations.dot\",\n",
    "                     feature_names=[\"age\",\"gender\"],\n",
    "                     class_names=sorted(vector_target.unique()),\n",
    "                     label='all')"
   ]
  },
  {
   "cell_type": "code",
   "execution_count": null,
   "id": "7bb8d806-6776-4247-93b9-00c258db3038",
   "metadata": {},
   "outputs": [],
   "source": []
  }
 ],
 "metadata": {
  "kernelspec": {
   "display_name": "Python 3 (ipykernel)",
   "language": "python",
   "name": "python3"
  },
  "language_info": {
   "codemirror_mode": {
    "name": "ipython",
    "version": 3
   },
   "file_extension": ".py",
   "mimetype": "text/x-python",
   "name": "python",
   "nbconvert_exporter": "python",
   "pygments_lexer": "ipython3",
   "version": "3.11.4"
  }
 },
 "nbformat": 4,
 "nbformat_minor": 5
}
