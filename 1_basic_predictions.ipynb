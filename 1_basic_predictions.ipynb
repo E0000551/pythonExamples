{
 "cells": [
  {
   "cell_type": "code",
   "execution_count": 7,
   "id": "dd5ae06a-1108-4b96-b833-7d24ea9a3500",
   "metadata": {},
   "outputs": [
    {
     "data": {
      "text/plain": [
       "array(['Artic Monkeys', 'Taylor Swift'], dtype=object)"
      ]
     },
     "execution_count": 7,
     "metadata": {},
     "output_type": "execute_result"
    }
   ],
   "source": [
    "import pandas as pd\n",
    "from sklearn.tree import DecisionTreeClassifier\n",
    "\n",
    "songs_data = pd.read_csv('songs_clean.csv')\n",
    "\n",
    "feature_vector = songs_data.drop(columns=['artist'])\n",
    "feature_vector = feature_vector.values\n",
    "\n",
    "vector_target = songs_data['artist']\n",
    "\n",
    "model = DecisionTreeClassifier()\n",
    "model.fit(feature_vector, vector_target)\n",
    "\n",
    "predictions = model.predict([[21,1],[22,0]])\n",
    "\n",
    "predictions"
   ]
  },
  {
   "cell_type": "code",
   "execution_count": null,
   "id": "78a8c42e-b669-4a67-a7f5-d306ed528936",
   "metadata": {},
   "outputs": [],
   "source": []
  },
  {
   "cell_type": "code",
   "execution_count": null,
   "id": "8ba66e24-0b17-4351-bec1-3035a49f1d7b",
   "metadata": {},
   "outputs": [],
   "source": []
  }
 ],
 "metadata": {
  "kernelspec": {
   "display_name": "Python 3 (ipykernel)",
   "language": "python",
   "name": "python3"
  },
  "language_info": {
   "codemirror_mode": {
    "name": "ipython",
    "version": 3
   },
   "file_extension": ".py",
   "mimetype": "text/x-python",
   "name": "python",
   "nbconvert_exporter": "python",
   "pygments_lexer": "ipython3",
   "version": "3.11.4"
  }
 },
 "nbformat": 4,
 "nbformat_minor": 5
}
